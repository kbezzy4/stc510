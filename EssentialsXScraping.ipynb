{
 "cells": [
  {
   "cell_type": "code",
   "execution_count": 1,
   "id": "9d7ee478-6100-4d64-9b09-cfeb21e5fb3f",
   "metadata": {},
   "outputs": [
    {
     "name": "stdout",
     "output_type": "stream",
     "text": [
      "Requirement already satisfied: selenium in c:\\users\\kbell\\appdata\\local\\anaconda3\\envs\\scrapingmastodon\\lib\\site-packages (4.17.2)\n",
      "Requirement already satisfied: urllib3<3,>=1.26 in c:\\users\\kbell\\appdata\\local\\anaconda3\\envs\\scrapingmastodon\\lib\\site-packages (from urllib3[socks]<3,>=1.26->selenium) (1.26.18)\n",
      "Requirement already satisfied: trio~=0.17 in c:\\users\\kbell\\appdata\\local\\anaconda3\\envs\\scrapingmastodon\\lib\\site-packages (from selenium) (0.24.0)\n",
      "Requirement already satisfied: trio-websocket~=0.9 in c:\\users\\kbell\\appdata\\local\\anaconda3\\envs\\scrapingmastodon\\lib\\site-packages (from selenium) (0.11.1)\n",
      "Requirement already satisfied: certifi>=2021.10.8 in c:\\users\\kbell\\appdata\\local\\anaconda3\\envs\\scrapingmastodon\\lib\\site-packages (from selenium) (2024.2.2)\n",
      "Requirement already satisfied: typing_extensions>=4.9.0 in c:\\users\\kbell\\appdata\\local\\anaconda3\\envs\\scrapingmastodon\\lib\\site-packages (from selenium) (4.9.0)\n",
      "Requirement already satisfied: attrs>=20.1.0 in c:\\users\\kbell\\appdata\\local\\anaconda3\\envs\\scrapingmastodon\\lib\\site-packages (from trio~=0.17->selenium) (23.1.0)\n",
      "Requirement already satisfied: sortedcontainers in c:\\users\\kbell\\appdata\\local\\anaconda3\\envs\\scrapingmastodon\\lib\\site-packages (from trio~=0.17->selenium) (2.4.0)\n",
      "Requirement already satisfied: idna in c:\\users\\kbell\\appdata\\local\\anaconda3\\envs\\scrapingmastodon\\lib\\site-packages (from trio~=0.17->selenium) (3.4)\n",
      "Requirement already satisfied: outcome in c:\\users\\kbell\\appdata\\local\\anaconda3\\envs\\scrapingmastodon\\lib\\site-packages (from trio~=0.17->selenium) (1.3.0.post0)\n",
      "Requirement already satisfied: sniffio>=1.3.0 in c:\\users\\kbell\\appdata\\local\\anaconda3\\envs\\scrapingmastodon\\lib\\site-packages (from trio~=0.17->selenium) (1.3.0)\n",
      "Requirement already satisfied: cffi>=1.14 in c:\\users\\kbell\\appdata\\local\\anaconda3\\envs\\scrapingmastodon\\lib\\site-packages (from trio~=0.17->selenium) (1.16.0)\n",
      "Requirement already satisfied: wsproto>=0.14 in c:\\users\\kbell\\appdata\\local\\anaconda3\\envs\\scrapingmastodon\\lib\\site-packages (from trio-websocket~=0.9->selenium) (1.2.0)\n",
      "Requirement already satisfied: PySocks!=1.5.7,<2.0,>=1.5.6 in c:\\users\\kbell\\appdata\\local\\anaconda3\\envs\\scrapingmastodon\\lib\\site-packages (from urllib3[socks]<3,>=1.26->selenium) (1.7.1)\n",
      "Requirement already satisfied: pycparser in c:\\users\\kbell\\appdata\\local\\anaconda3\\envs\\scrapingmastodon\\lib\\site-packages (from cffi>=1.14->trio~=0.17->selenium) (2.21)\n",
      "Requirement already satisfied: h11<1,>=0.9.0 in c:\\users\\kbell\\appdata\\local\\anaconda3\\envs\\scrapingmastodon\\lib\\site-packages (from wsproto>=0.14->trio-websocket~=0.9->selenium) (0.14.0)\n"
     ]
    }
   ],
   "source": [
    "!pip install selenium"
   ]
  },
  {
   "cell_type": "code",
   "execution_count": 2,
   "id": "4b992313-36fe-4806-8efb-584124af58cf",
   "metadata": {},
   "outputs": [
    {
     "name": "stdout",
     "output_type": "stream",
     "text": [
      "Requirement already satisfied: pandas in c:\\users\\kbell\\appdata\\local\\anaconda3\\envs\\scrapingmastodon\\lib\\site-packages (2.2.0)\n",
      "Requirement already satisfied: numpy<2,>=1.23.2 in c:\\users\\kbell\\appdata\\local\\anaconda3\\envs\\scrapingmastodon\\lib\\site-packages (from pandas) (1.26.4)\n",
      "Requirement already satisfied: python-dateutil>=2.8.2 in c:\\users\\kbell\\appdata\\local\\anaconda3\\envs\\scrapingmastodon\\lib\\site-packages (from pandas) (2.8.2)\n",
      "Requirement already satisfied: pytz>=2020.1 in c:\\users\\kbell\\appdata\\local\\anaconda3\\envs\\scrapingmastodon\\lib\\site-packages (from pandas) (2023.3.post1)\n",
      "Requirement already satisfied: tzdata>=2022.7 in c:\\users\\kbell\\appdata\\local\\anaconda3\\envs\\scrapingmastodon\\lib\\site-packages (from pandas) (2023.4)\n",
      "Requirement already satisfied: six>=1.5 in c:\\users\\kbell\\appdata\\local\\anaconda3\\envs\\scrapingmastodon\\lib\\site-packages (from python-dateutil>=2.8.2->pandas) (1.16.0)\n",
      "Note: you may need to restart the kernel to use updated packages.\n"
     ]
    }
   ],
   "source": [
    "pip install pandas"
   ]
  },
  {
   "cell_type": "code",
   "execution_count": 101,
   "id": "1531d0af-65df-41a5-8d37-932a59d4f1e7",
   "metadata": {},
   "outputs": [],
   "source": [
    "import selenium \n",
    "from selenium import webdriver\n",
    "from selenium.webdriver.common.by import By\n",
    "from selenium.webdriver.common.keys import Keys\n",
    "from time import sleep\n",
    "import pandas as pd"
   ]
  },
  {
   "cell_type": "code",
   "execution_count": 82,
   "id": "07ed23eb-cb70-4c7c-84ab-b446c9f52688",
   "metadata": {},
   "outputs": [],
   "source": [
    "# Starting the driver for the X scraper\n",
    "option = webdriver.ChromeOptions()\n",
    "driver = webdriver.Chrome(options=option)\n",
    "\n",
    "driver.get('htps://www.google.com/')"
   ]
  },
  {
   "cell_type": "code",
   "execution_count": 83,
   "id": "758c2fc7-5712-4259-9b98-bee42257dcb6",
   "metadata": {
    "scrolled": true
   },
   "outputs": [
    {
     "ename": "NoSuchElementException",
     "evalue": "Message: no such element: Unable to locate element: {\"method\":\"xpath\",\"selector\":\"//input[@name='password']\"}\n  (Session info: chrome=121.0.6167.140); For documentation on this error, please visit: https://www.selenium.dev/documentation/webdriver/troubleshooting/errors#no-such-element-exception\nStacktrace:\n\tGetHandleVerifier [0x00007FF7819B5E42+3538674]\n\t(No symbol) [0x00007FF7815D4C02]\n\t(No symbol) [0x00007FF781485AEB]\n\t(No symbol) [0x00007FF7814CBF4E]\n\t(No symbol) [0x00007FF7814CC0CC]\n\t(No symbol) [0x00007FF78150E477]\n\t(No symbol) [0x00007FF7814EF0EF]\n\t(No symbol) [0x00007FF78150BDE3]\n\t(No symbol) [0x00007FF7814EEE53]\n\t(No symbol) [0x00007FF7814BF514]\n\t(No symbol) [0x00007FF7814C0631]\n\tGetHandleVerifier [0x00007FF7819E6CAD+3738973]\n\tGetHandleVerifier [0x00007FF781A3C506+4089270]\n\tGetHandleVerifier [0x00007FF781A34823+4057299]\n\tGetHandleVerifier [0x00007FF781705C49+720121]\n\t(No symbol) [0x00007FF7815E126F]\n\t(No symbol) [0x00007FF7815DC304]\n\t(No symbol) [0x00007FF7815DC432]\n\t(No symbol) [0x00007FF7815CBD04]\n\tBaseThreadInitThunk [0x00007FFF92DA7344+20]\n\tRtlUserThreadStart [0x00007FFF92FE26B1+33]\n",
     "output_type": "error",
     "traceback": [
      "\u001b[1;31m---------------------------------------------------------------------------\u001b[0m",
      "\u001b[1;31mNoSuchElementException\u001b[0m                    Traceback (most recent call last)",
      "Cell \u001b[1;32mIn[83], line 23\u001b[0m\n\u001b[0;32m     19\u001b[0m next_button\u001b[38;5;241m.\u001b[39mclick()\n\u001b[0;32m     21\u001b[0m sleep(\u001b[38;5;241m3\u001b[39m)\n\u001b[1;32m---> 23\u001b[0m password \u001b[38;5;241m=\u001b[39m driver\u001b[38;5;241m.\u001b[39mfind_element(By\u001b[38;5;241m.\u001b[39mXPATH,\u001b[38;5;124m\"\u001b[39m\u001b[38;5;124m//input[@name=\u001b[39m\u001b[38;5;124m'\u001b[39m\u001b[38;5;124mpassword\u001b[39m\u001b[38;5;124m'\u001b[39m\u001b[38;5;124m]\u001b[39m\u001b[38;5;124m\"\u001b[39m)\n\u001b[0;32m     24\u001b[0m PW \u001b[38;5;241m=\u001b[39m \u001b[38;5;124m'\u001b[39m\u001b[38;5;124mdontlookatme3\u001b[39m\u001b[38;5;124m'\u001b[39m\n\u001b[0;32m     25\u001b[0m password\u001b[38;5;241m.\u001b[39msend_keys(PW)\n",
      "File \u001b[1;32m~\\AppData\\Local\\anaconda3\\envs\\ScrapingMastodon\\Lib\\site-packages\\selenium\\webdriver\\remote\\webdriver.py:741\u001b[0m, in \u001b[0;36mWebDriver.find_element\u001b[1;34m(self, by, value)\u001b[0m\n\u001b[0;32m    738\u001b[0m     by \u001b[38;5;241m=\u001b[39m By\u001b[38;5;241m.\u001b[39mCSS_SELECTOR\n\u001b[0;32m    739\u001b[0m     value \u001b[38;5;241m=\u001b[39m \u001b[38;5;124mf\u001b[39m\u001b[38;5;124m'\u001b[39m\u001b[38;5;124m[name=\u001b[39m\u001b[38;5;124m\"\u001b[39m\u001b[38;5;132;01m{\u001b[39;00mvalue\u001b[38;5;132;01m}\u001b[39;00m\u001b[38;5;124m\"\u001b[39m\u001b[38;5;124m]\u001b[39m\u001b[38;5;124m'\u001b[39m\n\u001b[1;32m--> 741\u001b[0m \u001b[38;5;28;01mreturn\u001b[39;00m \u001b[38;5;28mself\u001b[39m\u001b[38;5;241m.\u001b[39mexecute(Command\u001b[38;5;241m.\u001b[39mFIND_ELEMENT, {\u001b[38;5;124m\"\u001b[39m\u001b[38;5;124musing\u001b[39m\u001b[38;5;124m\"\u001b[39m: by, \u001b[38;5;124m\"\u001b[39m\u001b[38;5;124mvalue\u001b[39m\u001b[38;5;124m\"\u001b[39m: value})[\u001b[38;5;124m\"\u001b[39m\u001b[38;5;124mvalue\u001b[39m\u001b[38;5;124m\"\u001b[39m]\n",
      "File \u001b[1;32m~\\AppData\\Local\\anaconda3\\envs\\ScrapingMastodon\\Lib\\site-packages\\selenium\\webdriver\\remote\\webdriver.py:347\u001b[0m, in \u001b[0;36mWebDriver.execute\u001b[1;34m(self, driver_command, params)\u001b[0m\n\u001b[0;32m    345\u001b[0m response \u001b[38;5;241m=\u001b[39m \u001b[38;5;28mself\u001b[39m\u001b[38;5;241m.\u001b[39mcommand_executor\u001b[38;5;241m.\u001b[39mexecute(driver_command, params)\n\u001b[0;32m    346\u001b[0m \u001b[38;5;28;01mif\u001b[39;00m response:\n\u001b[1;32m--> 347\u001b[0m     \u001b[38;5;28mself\u001b[39m\u001b[38;5;241m.\u001b[39merror_handler\u001b[38;5;241m.\u001b[39mcheck_response(response)\n\u001b[0;32m    348\u001b[0m     response[\u001b[38;5;124m\"\u001b[39m\u001b[38;5;124mvalue\u001b[39m\u001b[38;5;124m\"\u001b[39m] \u001b[38;5;241m=\u001b[39m \u001b[38;5;28mself\u001b[39m\u001b[38;5;241m.\u001b[39m_unwrap_value(response\u001b[38;5;241m.\u001b[39mget(\u001b[38;5;124m\"\u001b[39m\u001b[38;5;124mvalue\u001b[39m\u001b[38;5;124m\"\u001b[39m, \u001b[38;5;28;01mNone\u001b[39;00m))\n\u001b[0;32m    349\u001b[0m     \u001b[38;5;28;01mreturn\u001b[39;00m response\n",
      "File \u001b[1;32m~\\AppData\\Local\\anaconda3\\envs\\ScrapingMastodon\\Lib\\site-packages\\selenium\\webdriver\\remote\\errorhandler.py:229\u001b[0m, in \u001b[0;36mErrorHandler.check_response\u001b[1;34m(self, response)\u001b[0m\n\u001b[0;32m    227\u001b[0m         alert_text \u001b[38;5;241m=\u001b[39m value[\u001b[38;5;124m\"\u001b[39m\u001b[38;5;124malert\u001b[39m\u001b[38;5;124m\"\u001b[39m]\u001b[38;5;241m.\u001b[39mget(\u001b[38;5;124m\"\u001b[39m\u001b[38;5;124mtext\u001b[39m\u001b[38;5;124m\"\u001b[39m)\n\u001b[0;32m    228\u001b[0m     \u001b[38;5;28;01mraise\u001b[39;00m exception_class(message, screen, stacktrace, alert_text)  \u001b[38;5;66;03m# type: ignore[call-arg]  # mypy is not smart enough here\u001b[39;00m\n\u001b[1;32m--> 229\u001b[0m \u001b[38;5;28;01mraise\u001b[39;00m exception_class(message, screen, stacktrace)\n",
      "\u001b[1;31mNoSuchElementException\u001b[0m: Message: no such element: Unable to locate element: {\"method\":\"xpath\",\"selector\":\"//input[@name='password']\"}\n  (Session info: chrome=121.0.6167.140); For documentation on this error, please visit: https://www.selenium.dev/documentation/webdriver/troubleshooting/errors#no-such-element-exception\nStacktrace:\n\tGetHandleVerifier [0x00007FF7819B5E42+3538674]\n\t(No symbol) [0x00007FF7815D4C02]\n\t(No symbol) [0x00007FF781485AEB]\n\t(No symbol) [0x00007FF7814CBF4E]\n\t(No symbol) [0x00007FF7814CC0CC]\n\t(No symbol) [0x00007FF78150E477]\n\t(No symbol) [0x00007FF7814EF0EF]\n\t(No symbol) [0x00007FF78150BDE3]\n\t(No symbol) [0x00007FF7814EEE53]\n\t(No symbol) [0x00007FF7814BF514]\n\t(No symbol) [0x00007FF7814C0631]\n\tGetHandleVerifier [0x00007FF7819E6CAD+3738973]\n\tGetHandleVerifier [0x00007FF781A3C506+4089270]\n\tGetHandleVerifier [0x00007FF781A34823+4057299]\n\tGetHandleVerifier [0x00007FF781705C49+720121]\n\t(No symbol) [0x00007FF7815E126F]\n\t(No symbol) [0x00007FF7815DC304]\n\t(No symbol) [0x00007FF7815DC432]\n\t(No symbol) [0x00007FF7815CBD04]\n\tBaseThreadInitThunk [0x00007FFF92DA7344+20]\n\tRtlUserThreadStart [0x00007FFF92FE26B1+33]\n"
     ]
    }
   ],
   "source": [
    "# Logging into X and defining the keyword target\n",
    "driver.get('https://www.twitter.com/login')\n",
    "subject = \"EpochTimes\"\n",
    "\n",
    "sleep(3)\n",
    "\n",
    "sign_in = driver.find_element(By.XPATH,\"//input[@name='text']\")\n",
    "sign_in.click()\n",
    "\n",
    "sleep(3)\n",
    "\n",
    "username = driver.find_element(By.XPATH,\"//input[@name='text']\")\n",
    "UNAME = 'kjbell4@asu.edu'\n",
    "username.send_keys(UNAME)\n",
    "\n",
    "sleep(3)\n",
    "\n",
    "next_button = driver.find_element(By.XPATH,\"//span[contains(text(),'Next')]\")\n",
    "next_button.click()\n",
    "\n",
    "sleep(3)\n",
    "\n",
    "password = driver.find_element(By.XPATH,\"//input[@name='password']\")\n",
    "PW = 'dontlookatme3'\n",
    "password.send_keys(PW)\n",
    "\n",
    "sleep(3)\n",
    "\n",
    "log_in=driver.find_element(By.XPATH,\"//span[contains(text(),'Log in')]\")\n",
    "log_in.click()"
   ]
  },
  {
   "cell_type": "code",
   "execution_count": 107,
   "id": "1a728812-0b04-4596-9c73-aa33cb58861c",
   "metadata": {},
   "outputs": [],
   "source": [
    "# Searching for subject in people\n",
    "sleep(3)\n",
    "\n",
    "search_entry = driver.find_element(By.XPATH,\"//input[@data-testid = 'SearchBox_Search_Input']\")\n",
    "subject = \"EpochTimes\"\n",
    "search_entry.send_keys(subject)\n",
    "search_entry.send_keys(Keys.ENTER)\n",
    "\n",
    "sleep(3)\n",
    "\n",
    "people = driver.find_element(By.XPATH,\"//span[contains(text(),'People')]\")\n",
    "people.click()\n",
    "\n",
    "sleep(3)\n",
    "\n",
    "user = driver.find_element(By.XPATH,\"//span[contains(text(),'The Epoch Times')]\")\n",
    "user.click()"
   ]
  },
  {
   "cell_type": "code",
   "execution_count": 109,
   "id": "265c3312-0c53-4a49-afb6-ab9430bc146d",
   "metadata": {},
   "outputs": [
    {
     "name": "stdout",
     "output_type": "stream",
     "text": [
      "76 76 76 76\n"
     ]
    }
   ],
   "source": [
    "# Getting usertags, tweets, Replys, and retweets from keyword\n",
    "UserTags=[]\n",
    "Tweets=[]\n",
    "Replys=[]\n",
    "reTweets=[]\n",
    "\n",
    "\n",
    "posts = driver.find_elements(By.XPATH,\"//article[@data-testid='tweet']\")\n",
    "\n",
    "while True: \n",
    "    for post in posts:\n",
    "        UserTag = driver.find_element(By.XPATH,\".//div[@data-testid='User-Name']\").text\n",
    "        UserTags.append(UserTag)\n",
    "\n",
    "        Tweet = driver.find_element(By.XPATH,\".//div[@data-testid='tweetText']\").text\n",
    "        Tweets.append(Tweet)\n",
    "\n",
    "        Reply = driver.find_element(By.XPATH,\".//div[@data-testid='reply']\").text\n",
    "        Replys.append(Reply)\n",
    "\n",
    "        reTweet = driver.find_element(By.XPATH,\".//div[@data-testid='retweet']\").text\n",
    "        reTweets.append(reTweet)\n",
    "\n",
    "    driver.execute_script('window.scrollTo(0,document.body.scrollHeight);')\n",
    "\n",
    "    sleep(5)\n",
    "    posts = driver.find_elements(By.XPATH,\"//article[@data-testid='tweet']\")\n",
    "    Tweets2 = list(set(Tweets))\n",
    "    if len(Tweets2) > 10:\n",
    "        break\n",
    "    \n",
    "print(len(UserTags),\n",
    "      len(Tweets),\n",
    "      len(Replys),\n",
    "      len(reTweets))"
   ]
  },
  {
   "cell_type": "code",
   "execution_count": 110,
   "id": "6625c11b-d099-42ed-820d-71063af319c3",
   "metadata": {},
   "outputs": [],
   "source": [
    "# Forming the dataframe report\n",
    "df = pd.DataFrame(zip(UserTags,Tweets,Replys,reTweets),columns=['UserTags','Tweets','Replys','reTweets'])"
   ]
  },
  {
   "cell_type": "code",
   "execution_count": 111,
   "id": "27554974-e4ef-4f02-a46f-8caaade03071",
   "metadata": {},
   "outputs": [
    {
     "data": {
      "text/html": [
       "<div>\n",
       "<style scoped>\n",
       "    .dataframe tbody tr th:only-of-type {\n",
       "        vertical-align: middle;\n",
       "    }\n",
       "\n",
       "    .dataframe tbody tr th {\n",
       "        vertical-align: top;\n",
       "    }\n",
       "\n",
       "    .dataframe thead th {\n",
       "        text-align: right;\n",
       "    }\n",
       "</style>\n",
       "<table border=\"1\" class=\"dataframe\">\n",
       "  <thead>\n",
       "    <tr style=\"text-align: right;\">\n",
       "      <th></th>\n",
       "      <th>UserTags</th>\n",
       "      <th>Tweets</th>\n",
       "      <th>Replys</th>\n",
       "      <th>reTweets</th>\n",
       "    </tr>\n",
       "  </thead>\n",
       "  <tbody>\n",
       "    <tr>\n",
       "      <th>0</th>\n",
       "      <td>The Epoch Times\\n@EpochTimes\\n·\\nJan 7</td>\n",
       "      <td>The NEW Epoch Original Documentary “#TheRealSt...</td>\n",
       "      <td>94</td>\n",
       "      <td>428</td>\n",
       "    </tr>\n",
       "    <tr>\n",
       "      <th>1</th>\n",
       "      <td>The Epoch Times\\n@EpochTimes\\n·\\nJan 7</td>\n",
       "      <td>The NEW Epoch Original Documentary “#TheRealSt...</td>\n",
       "      <td>94</td>\n",
       "      <td>428</td>\n",
       "    </tr>\n",
       "    <tr>\n",
       "      <th>2</th>\n",
       "      <td>The Epoch Times\\n@EpochTimes\\n·\\nJan 7</td>\n",
       "      <td>The NEW Epoch Original Documentary “#TheRealSt...</td>\n",
       "      <td>94</td>\n",
       "      <td>428</td>\n",
       "    </tr>\n",
       "    <tr>\n",
       "      <th>3</th>\n",
       "      <td>The Epoch Times\\n@EpochTimes\\n·\\nFeb 6</td>\n",
       "      <td>Illegal Immigrants Suspected of Beating NYPD C...</td>\n",
       "      <td>3</td>\n",
       "      <td>14</td>\n",
       "    </tr>\n",
       "    <tr>\n",
       "      <th>4</th>\n",
       "      <td>The Epoch Times\\n@EpochTimes\\n·\\nFeb 6</td>\n",
       "      <td>Illegal Immigrants Suspected of Beating NYPD C...</td>\n",
       "      <td>3</td>\n",
       "      <td>14</td>\n",
       "    </tr>\n",
       "  </tbody>\n",
       "</table>\n",
       "</div>"
      ],
      "text/plain": [
       "                                 UserTags  \\\n",
       "0  The Epoch Times\\n@EpochTimes\\n·\\nJan 7   \n",
       "1  The Epoch Times\\n@EpochTimes\\n·\\nJan 7   \n",
       "2  The Epoch Times\\n@EpochTimes\\n·\\nJan 7   \n",
       "3  The Epoch Times\\n@EpochTimes\\n·\\nFeb 6   \n",
       "4  The Epoch Times\\n@EpochTimes\\n·\\nFeb 6   \n",
       "\n",
       "                                              Tweets Replys reTweets  \n",
       "0  The NEW Epoch Original Documentary “#TheRealSt...     94      428  \n",
       "1  The NEW Epoch Original Documentary “#TheRealSt...     94      428  \n",
       "2  The NEW Epoch Original Documentary “#TheRealSt...     94      428  \n",
       "3  Illegal Immigrants Suspected of Beating NYPD C...      3       14  \n",
       "4  Illegal Immigrants Suspected of Beating NYPD C...      3       14  "
      ]
     },
     "execution_count": 111,
     "metadata": {},
     "output_type": "execute_result"
    }
   ],
   "source": [
    "# Peeking into df\n",
    "df.head()"
   ]
  },
  {
   "cell_type": "code",
   "execution_count": 104,
   "id": "d0a1a590-6fe6-4511-a3c3-e0ffa90fe2c6",
   "metadata": {},
   "outputs": [],
   "source": [
    "# Saving to csv\n",
    "df.to_csv('X Scrape',index=False)"
   ]
  },
  {
   "cell_type": "code",
   "execution_count": null,
   "id": "41f6c7ce-0ef6-4947-965e-962e83b7190b",
   "metadata": {},
   "outputs": [],
   "source": []
  }
 ],
 "metadata": {
  "kernelspec": {
   "display_name": "Python 3 (ipykernel)",
   "language": "python",
   "name": "python3"
  },
  "language_info": {
   "codemirror_mode": {
    "name": "ipython",
    "version": 3
   },
   "file_extension": ".py",
   "mimetype": "text/x-python",
   "name": "python",
   "nbconvert_exporter": "python",
   "pygments_lexer": "ipython3",
   "version": "3.11.7"
  }
 },
 "nbformat": 4,
 "nbformat_minor": 5
}
